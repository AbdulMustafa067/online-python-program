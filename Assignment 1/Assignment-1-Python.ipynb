{
 "cells": [
  {
   "cell_type": "code",
   "execution_count": 19,
   "id": "35de5d58",
   "metadata": {},
   "outputs": [
    {
     "name": "stdout",
     "output_type": "stream",
     "text": [
      "Twinkle, Twikle Little Star\n",
      "         How are you wonder what you are\n",
      "                      up above the whats so high\n",
      "                      Like a diamond in the sky\n",
      "Twinkle, Twinkle Little Star\n",
      "         How i wonder what you are\n"
     ]
    }
   ],
   "source": [
    "#1-Twinkle Twinkle\n",
    "print(\"Twinkle, Twikle Little Star\");\n",
    "print(\"         How are you wonder what you are\");\n",
    "print(\"                      up above the whats so high\");\n",
    "print(\"                      Like a diamond in the sky\");\n",
    "print(\"Twinkle, Twinkle Little Star\");\n",
    "print(\"         How i wonder what you are\");"
   ]
  },
  {
   "cell_type": "code",
   "execution_count": 14,
   "id": "448b1bcb",
   "metadata": {},
   "outputs": [
    {
     "ename": "NameError",
     "evalue": "name 'python' is not defined",
     "output_type": "error",
     "traceback": [
      "\u001b[1;31m---------------------------------------------------------------------------\u001b[0m",
      "\u001b[1;31mNameError\u001b[0m                                 Traceback (most recent call last)",
      "\u001b[1;32m~\\AppData\\Local\\Temp/ipykernel_12948/1576056767.py\u001b[0m in \u001b[0;36m<module>\u001b[1;34m\u001b[0m\n\u001b[1;32m----> 1\u001b[1;33m \u001b[0mpython\u001b[0m \u001b[1;33m-\u001b[0m\u001b[1;33m-\u001b[0m\u001b[0mversion\u001b[0m\u001b[1;33m\u001b[0m\u001b[1;33m\u001b[0m\u001b[0m\n\u001b[0m",
      "\u001b[1;31mNameError\u001b[0m: name 'python' is not defined"
     ]
    }
   ],
   "source": [
    "#2-urrent version\n",
    "python --version"
   ]
  },
  {
   "cell_type": "code",
   "execution_count": 17,
   "id": "747bdc0b",
   "metadata": {},
   "outputs": [
    {
     "name": "stdout",
     "output_type": "stream",
     "text": [
      "2022-01-02 21:39:40.656141\n"
     ]
    }
   ],
   "source": [
    "#3-Date and Time\n",
    "import datetime\n",
    "\n",
    "x = datetime.datetime.now();\n",
    "\n",
    "print(x);"
   ]
  },
  {
   "cell_type": "code",
   "execution_count": 18,
   "id": "f6c77d14",
   "metadata": {},
   "outputs": [
    {
     "name": "stdout",
     "output_type": "stream",
     "text": [
      "314.3\n"
     ]
    }
   ],
   "source": [
    "#4-Area of Circle\n",
    "r=10;\n",
    "A=3.143 * 10 * 10;\n",
    "print(A);"
   ]
  },
  {
   "cell_type": "code",
   "execution_count": 22,
   "id": "8ba25ec3",
   "metadata": {},
   "outputs": [
    {
     "name": "stdout",
     "output_type": "stream",
     "text": [
      "Mustafa Abdul\n"
     ]
    }
   ],
   "source": [
    "#5-Reverse Name\n",
    "\n",
    "fname=\" Abdul\";\n",
    "lname=\"Mustafa\";\n",
    "print(lname + fname)"
   ]
  },
  {
   "cell_type": "code",
   "execution_count": 24,
   "id": "314bc384",
   "metadata": {},
   "outputs": [
    {
     "name": "stdout",
     "output_type": "stream",
     "text": [
      "30\n"
     ]
    }
   ],
   "source": [
    "#6-Addition\n",
    "num1=10;\n",
    "num2=20;\n",
    "num3=num1 + num2;\n",
    "print(num3);"
   ]
  },
  {
   "cell_type": "code",
   "execution_count": null,
   "id": "220d39c5",
   "metadata": {},
   "outputs": [],
   "source": []
  }
 ],
 "metadata": {
  "kernelspec": {
   "display_name": "Python 3 (ipykernel)",
   "language": "python",
   "name": "python3"
  },
  "language_info": {
   "codemirror_mode": {
    "name": "ipython",
    "version": 3
   },
   "file_extension": ".py",
   "mimetype": "text/x-python",
   "name": "python",
   "nbconvert_exporter": "python",
   "pygments_lexer": "ipython3",
   "version": "3.9.7"
  }
 },
 "nbformat": 4,
 "nbformat_minor": 5
}
